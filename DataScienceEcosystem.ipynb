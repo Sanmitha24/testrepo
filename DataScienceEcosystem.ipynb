{
 "cells": [
  {
   "cell_type": "markdown",
   "id": "dfcc10b6-0a4e-48a7-b430-45320146e89e",
   "metadata": {},
   "source": [
    "# Data Science Tools and Ecosystem"
   ]
  },
  {
   "cell_type": "markdown",
   "id": "472a94da-be9e-4345-bafc-b9c5c460dd43",
   "metadata": {},
   "source": [
    "In this notebook, Data Science Tools and Ecosystem are summarized."
   ]
  },
  {
   "cell_type": "markdown",
   "id": "6235357c-a720-4bd0-8e18-d3d736e481c2",
   "metadata": {},
   "source": [
    "Some of the popular languages that Data Scientists use are:\n",
    "1. Python\n",
    "2. C++\n",
    "3. Java"
   ]
  },
  {
   "cell_type": "markdown",
   "id": "784259c7-339a-4655-96de-df11ad3ae8f7",
   "metadata": {},
   "source": [
    "Some of the commonly used libraries used by Data Scientists include:\n",
    "1. Matplotlib\n",
    "2. NumPy\n",
    "3. Pandas"
   ]
  },
  {
   "cell_type": "markdown",
   "id": "8a57c681-4cee-4551-aa34-605d87c2a518",
   "metadata": {},
   "source": [
    "|Data Science Tools|\n",
    "|----:|\n",
    "|1.RStudio|\n",
    "|2.Apache Spark|\n",
    "|3.TensorFlow|"
   ]
  },
  {
   "cell_type": "markdown",
   "id": "272e494e-e39e-4100-8f72-229d1b4b6948",
   "metadata": {},
   "source": [
    "### Below are a few examples of evaluating arithmetic expressions in Python"
   ]
  },
  {
   "cell_type": "code",
   "execution_count": 2,
   "id": "d7c3a8d9-85d1-44e3-a6bd-99a67d213455",
   "metadata": {
    "tags": []
   },
   "outputs": [
    {
     "data": {
      "text/plain": [
       "17"
      ]
     },
     "execution_count": 2,
     "metadata": {},
     "output_type": "execute_result"
    }
   ],
   "source": [
    "# This a simple arithmetic expression to mutiply then add integers\n",
    "(3*4)+5"
   ]
  },
  {
   "cell_type": "code",
   "execution_count": 3,
   "id": "6854619e-fac7-435f-bfc9-23d65f3b015f",
   "metadata": {
    "tags": []
   },
   "outputs": [
    {
     "name": "stdout",
     "output_type": "stream",
     "text": [
      "3.3333333333333335\n"
     ]
    }
   ],
   "source": [
    "# This will convert 200 minutes to hours by diving by 60\n",
    "mins=200\n",
    "hours=200/60\n",
    "print(hours)"
   ]
  },
  {
   "cell_type": "markdown",
   "id": "d988bbf6-a03d-4044-989e-a27d34bd14da",
   "metadata": {},
   "source": [
    "# Objectives:\n",
    "- The popular languages of Data Science are Python, Java, SQL,etc.\n",
    "- We can collect data and transform it which is supported by various platforms.\n",
    "- Through Data Science models, we can predict the future behavior and trends"
   ]
  },
  {
   "cell_type": "markdown",
   "id": "587988cc-6b91-4067-9a82-2db90a489a3c",
   "metadata": {},
   "source": [
    "## Author\n",
    "Sanmitha S Shetty"
   ]
  }
 ],
 "metadata": {
  "kernelspec": {
   "display_name": "Python",
   "language": "python",
   "name": "conda-env-python-py"
  },
  "language_info": {
   "codemirror_mode": {
    "name": "ipython",
    "version": 3
   },
   "file_extension": ".py",
   "mimetype": "text/x-python",
   "name": "python",
   "nbconvert_exporter": "python",
   "pygments_lexer": "ipython3",
   "version": "3.7.12"
  }
 },
 "nbformat": 4,
 "nbformat_minor": 5
}
